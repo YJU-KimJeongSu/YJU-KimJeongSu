{
  "nbformat": 4,
  "nbformat_minor": 0,
  "metadata": {
    "colab": {
      "name": "numpy with matplotlib.ipynb",
      "provenance": [],
      "collapsed_sections": [],
      "authorship_tag": "ABX9TyMFA7f2gVbhTnp0OncshYmu",
      "include_colab_link": true
    },
    "kernelspec": {
      "name": "python3",
      "display_name": "Python 3"
    },
    "language_info": {
      "name": "python"
    },
    "accelerator": "GPU"
  },
  "cells": [
    {
      "cell_type": "markdown",
      "metadata": {
        "id": "view-in-github",
        "colab_type": "text"
      },
      "source": [
        "<a href=\"https://colab.research.google.com/github/YJU-KimJeongSu/YJU-KimJeongSu/blob/main/numpy_with_matplotlib.ipynb\" target=\"_parent\"><img src=\"https://colab.research.google.com/assets/colab-badge.svg\" alt=\"Open In Colab\"/></a>"
      ]
    },
    {
      "cell_type": "code",
      "execution_count": null,
      "metadata": {
        "colab": {
          "base_uri": "https://localhost:8080/"
        },
        "id": "fAdwn572pquA",
        "outputId": "8b2f04d7-7372-4936-ad0d-d08dfdd14bbc"
      },
      "outputs": [
        {
          "output_type": "stream",
          "name": "stdout",
          "text": [
            "Currently selected TF version: 2.x\n",
            "Available versions:\n",
            "* 1.x\n",
            "* 2.x\n"
          ]
        }
      ],
      "source": [
        "%tensorflow_version"
      ]
    },
    {
      "cell_type": "code",
      "source": [
        "import keras\n",
        "import numpy as np\n",
        "import matplotlib.pyplot as plt"
      ],
      "metadata": {
        "id": "aE6xZQlMq9mg"
      },
      "execution_count": null,
      "outputs": []
    },
    {
      "cell_type": "code",
      "source": [
        "stArray2 = np.array([[1, 3, 5, 7, 9], [2, 4, 6, 8, 10]])\n",
        "stArray2"
      ],
      "metadata": {
        "id": "Ma-Dh9JEjZ7g",
        "colab": {
          "base_uri": "https://localhost:8080/"
        },
        "outputId": "56a762ad-c266-43d4-c19d-bad1aaa9d99e"
      },
      "execution_count": null,
      "outputs": [
        {
          "output_type": "execute_result",
          "data": {
            "text/plain": [
              "array([[ 1,  3,  5,  7,  9],\n",
              "       [ 2,  4,  6,  8, 10]])"
            ]
          },
          "metadata": {},
          "execution_count": 12
        }
      ]
    },
    {
      "cell_type": "code",
      "source": [
        "stArray2.shape"
      ],
      "metadata": {
        "colab": {
          "base_uri": "https://localhost:8080/"
        },
        "id": "SJFZpiahj8Rj",
        "outputId": "7b4732c4-9387-4538-ce6c-f7cbaa39e802"
      },
      "execution_count": null,
      "outputs": [
        {
          "output_type": "execute_result",
          "data": {
            "text/plain": [
              "(2, 5)"
            ]
          },
          "metadata": {},
          "execution_count": 7
        }
      ]
    },
    {
      "cell_type": "code",
      "source": [
        "stArray2.reshape(5, 2)"
      ],
      "metadata": {
        "colab": {
          "base_uri": "https://localhost:8080/"
        },
        "id": "cwqPcE-onCaI",
        "outputId": "aae957ad-7b7c-4db3-fb1a-083eadff9dfe"
      },
      "execution_count": null,
      "outputs": [
        {
          "output_type": "execute_result",
          "data": {
            "text/plain": [
              "array([[ 1,  3],\n",
              "       [ 5,  7],\n",
              "       [ 9,  2],\n",
              "       [ 4,  6],\n",
              "       [ 8, 10]])"
            ]
          },
          "metadata": {},
          "execution_count": 8
        }
      ]
    },
    {
      "cell_type": "code",
      "source": [
        "stArray2.reshape(10)"
      ],
      "metadata": {
        "id": "3Hhrd6MU5U_2",
        "colab": {
          "base_uri": "https://localhost:8080/"
        },
        "outputId": "7f864316-1b82-4df8-ffb2-40c29f3afbeb"
      },
      "execution_count": null,
      "outputs": [
        {
          "output_type": "execute_result",
          "data": {
            "text/plain": [
              "array([ 1,  3,  5,  7,  9,  2,  4,  6,  8, 10])"
            ]
          },
          "metadata": {},
          "execution_count": 4
        }
      ]
    },
    {
      "cell_type": "code",
      "source": [
        "stZero = np.zeros((5, 2))\n",
        "stZero"
      ],
      "metadata": {
        "id": "71gztQAmCfqg"
      },
      "execution_count": null,
      "outputs": []
    },
    {
      "cell_type": "code",
      "source": [
        "stOne = np.ones((2, 5))\n",
        "stOne"
      ],
      "metadata": {
        "colab": {
          "base_uri": "https://localhost:8080/"
        },
        "id": "yGsePDHqDhZX",
        "outputId": "a3c7cddd-e41a-4e6d-fad7-d12dadf7b88f"
      },
      "execution_count": null,
      "outputs": [
        {
          "output_type": "execute_result",
          "data": {
            "text/plain": [
              "array([[1., 1., 1., 1., 1.],\n",
              "       [1., 1., 1., 1., 1.]])"
            ]
          },
          "metadata": {},
          "execution_count": 10
        }
      ]
    },
    {
      "cell_type": "code",
      "source": [
        "stRandom = np.random.rand(3)\n",
        "stRandom"
      ],
      "metadata": {
        "colab": {
          "base_uri": "https://localhost:8080/"
        },
        "id": "2rYab3s-FMhz",
        "outputId": "a2d8730a-6e75-4dcd-df93-24afc3059413"
      },
      "execution_count": null,
      "outputs": [
        {
          "output_type": "execute_result",
          "data": {
            "text/plain": [
              "array([0.94005209, 0.05579489, 0.630604  ])"
            ]
          },
          "metadata": {},
          "execution_count": 14
        }
      ]
    },
    {
      "cell_type": "code",
      "source": [
        "r10000 = np.random.rand(10000)\n",
        "plt.hist(r10000)\n",
        "plt.grid()"
      ],
      "metadata": {
        "colab": {
          "base_uri": "https://localhost:8080/",
          "height": 265
        },
        "id": "PnNOrTr1GrF8",
        "outputId": "d517890e-d8a8-4918-f7fa-5f5f8587270e"
      },
      "execution_count": null,
      "outputs": [
        {
          "output_type": "display_data",
          "data": {
            "text/plain": [
              "<Figure size 432x288 with 1 Axes>"
            ],
            "image/png": "[encoded data removed]"
          },
          "metadata": {
            "needs_background": "light"
          }
        }
      ]
    },
    {
      "cell_type": "code",
      "source": [
        "stNormal = np.random.normal(3, 1, 5)\n",
        "stNormal"
      ],
      "metadata": {
        "colab": {
          "base_uri": "https://localhost:8080/"
        },
        "id": "MB2yeoW5NUBD",
        "outputId": "a38591b5-cbcf-4054-8ae1-13bef22b0e1f"
      },
      "execution_count": null,
      "outputs": [
        {
          "output_type": "execute_result",
          "data": {
            "text/plain": [
              "array([2.81212631, 0.79627942, 2.47851884, 3.28052675, 2.27112692])"
            ]
          },
          "metadata": {},
          "execution_count": 3
        }
      ]
    },
    {
      "cell_type": "code",
      "source": [
        "stRandom10000 = np.random.normal(0, 1, 10000)\n",
        "plt.hist(stRandom10000)\n",
        "plt.grid()"
      ],
      "metadata": {
        "colab": {
          "base_uri": "https://localhost:8080/",
          "height": 265
        },
        "id": "zZjU4dYvYnMw",
        "outputId": "cb5abc32-7b9a-4886-bc7f-b5eae0c91d87"
      },
      "execution_count": null,
      "outputs": [
        {
          "output_type": "display_data",
          "data": {
            "text/plain": [
              "<Figure size 432x288 with 1 Axes>"
            ],
            "image/png": "[encoded data removed]"
          },
          "metadata": {
            "needs_background": "light"
          }
        }
      ]
    },
    {
      "cell_type": "code",
      "source": [
        "stRandint = np.random.randint(1, 100, 5)\t\n",
        "stRandint"
      ],
      "metadata": {
        "colab": {
          "base_uri": "https://localhost:8080/"
        },
        "id": "Any6T4odZ7zS",
        "outputId": "d1015169-265d-4050-daf1-6ff9601db659"
      },
      "execution_count": null,
      "outputs": [
        {
          "output_type": "execute_result",
          "data": {
            "text/plain": [
              "array([74, 80, 91, 48, 72])"
            ]
          },
          "metadata": {},
          "execution_count": 7
        }
      ]
    },
    {
      "cell_type": "code",
      "source": [
        "stRandint10000 = np.random.randint(1, 100, 10000)\n",
        "plt.hist(stRandint10000)\n",
        "plt.grid()"
      ],
      "metadata": {
        "colab": {
          "base_uri": "https://localhost:8080/",
          "height": 265
        },
        "id": "-mulCwKVaSv-",
        "outputId": "b2823571-5685-4e09-ff6c-725215a31132"
      },
      "execution_count": null,
      "outputs": [
        {
          "output_type": "display_data",
          "data": {
            "text/plain": [
              "<Figure size 432x288 with 1 Axes>"
            ],
            "image/png": "[encoded data removed]"
          },
          "metadata": {
            "needs_background": "light"
          }
        }
      ]
    },
    {
      "cell_type": "code",
      "source": [
        "np.random.seed(12345)\n",
        "print(np.random.rand(5))\n",
        "np.random.seed(12345)\n",
        "print(np.random.rand(5))"
      ],
      "metadata": {
        "id": "rLBFifnKc-9r",
        "outputId": "37b71ddf-ccca-4818-d671-26e7080ac9bf",
        "colab": {
          "base_uri": "https://localhost:8080/"
        }
      },
      "execution_count": null,
      "outputs": [
        {
          "output_type": "stream",
          "name": "stdout",
          "text": [
            "[0.92961609 0.31637555 0.18391881 0.20456028 0.56772503]\n",
            "[0.92961609 0.31637555 0.18391881 0.20456028 0.56772503]\n"
          ]
        }
      ]
    }
  ]
}